{
 "cells": [
  {
   "cell_type": "markdown",
   "id": "8b9528ec",
   "metadata": {},
   "source": [
    "# #1 - Import the data"
   ]
  },
  {
   "cell_type": "markdown",
   "id": "d85952c3",
   "metadata": {},
   "source": [
    "# #2 - Clean Data"
   ]
  },
  {
   "cell_type": "code",
   "execution_count": 2,
   "id": "9e958f45",
   "metadata": {},
   "outputs": [],
   "source": [
    "from sklearn.datasets import load_iris\n",
    "iris = load_iris()"
   ]
  },
  {
   "cell_type": "code",
   "execution_count": 4,
   "id": "766bc783",
   "metadata": {},
   "outputs": [
    {
     "data": {
      "text/plain": [
       "numpy.ndarray"
      ]
     },
     "execution_count": 4,
     "metadata": {},
     "output_type": "execute_result"
    }
   ],
   "source": [
    "X = iris.data # Data\n",
    "y = iris.target # Target\n",
    "\n",
    "feature_names = iris.feature_names\n",
    "target_names = iris.target_names\n",
    "type(X)"
   ]
  },
  {
   "cell_type": "markdown",
   "id": "3983bcb9",
   "metadata": {},
   "source": [
    "# #3 - Split data. Training Set/Test Set"
   ]
  },
  {
   "cell_type": "code",
   "execution_count": 26,
   "id": "2a9c9c9d",
   "metadata": {},
   "outputs": [
    {
     "name": "stdout",
     "output_type": "stream",
     "text": [
      "(120, 4)\n",
      "(30, 4)\n"
     ]
    }
   ],
   "source": [
    "# Split arrays or matrices into random train and test subsets\n",
    "from sklearn.model_selection import train_test_split\n",
    "X_train, X_test, y_train, y_test, = train_test_split(X, y, test_size=0.2)\n",
    "\n",
    "print(X_train.shape)\n",
    "print(X_test.shape)"
   ]
  },
  {
   "cell_type": "markdown",
   "id": "6313e75f",
   "metadata": {},
   "source": [
    "# #4 - Create a Model"
   ]
  },
  {
   "cell_type": "code",
   "execution_count": 8,
   "id": "286196d8",
   "metadata": {},
   "outputs": [],
   "source": [
    "from sklearn.neighbors import KNeighborsClassifier # Can be used as a function - Type of alggorithim chosen\n",
    "knn = KNeighborsClassifier(n_neighbors=3) # See n data points arround me to decide which type of flower I am?\n",
    "knn.fit(X_train, y_train)\n",
    "y_pred = knn.predict(X_test)"
   ]
  },
  {
   "cell_type": "markdown",
   "id": "3c3ce161",
   "metadata": {},
   "source": [
    "# #5 - Check the output"
   ]
  },
  {
   "cell_type": "code",
   "execution_count": 32,
   "id": "16736523",
   "metadata": {},
   "outputs": [
    {
     "name": "stdout",
     "output_type": "stream",
     "text": [
      "1.0\n"
     ]
    }
   ],
   "source": [
    "from sklearn import metrics\n",
    "print(metrics.accuracy_score(y_test, y_pred))"
   ]
  },
  {
   "cell_type": "code",
   "execution_count": 13,
   "id": "4dcd8cad",
   "metadata": {},
   "outputs": [
    {
     "data": {
      "text/plain": [
       "['mlbrain.joblib']"
      ]
     },
     "execution_count": 13,
     "metadata": {},
     "output_type": "execute_result"
    }
   ],
   "source": [
    "# Dump Model\n",
    "from joblib import dump, load\n",
    "dump(knn, 'mlbrain.joblib')"
   ]
  },
  {
   "cell_type": "code",
   "execution_count": 17,
   "id": "4881f4fa",
   "metadata": {},
   "outputs": [
    {
     "name": "stdout",
     "output_type": "stream",
     "text": [
      "Predictions:  ['versicolor', 'virginica']\n"
     ]
    }
   ],
   "source": [
    "# How to load and use model once dumped\n",
    "model = load('mlbrain.joblib')\n",
    "model.predict(X_test)\n",
    "\n",
    "sample = [[3,5,4,2],[2,3,5,4]]\n",
    "predictions = model.predict(sample)\n",
    "pred_species = [iris.target_names[p] for p in predictions]\n",
    "print(\"Predictions: \", pred_species)"
   ]
  },
  {
   "cell_type": "markdown",
   "id": "d7aa54c1",
   "metadata": {},
   "source": [
    "# #6 - Improve"
   ]
  },
  {
   "cell_type": "code",
   "execution_count": null,
   "id": "53a1f1c8",
   "metadata": {},
   "outputs": [],
   "source": [
    "# Change the Algorithm and try for improvements in accuracy"
   ]
  }
 ],
 "metadata": {
  "kernelspec": {
   "display_name": "Python 3 (ipykernel)",
   "language": "python",
   "name": "python3"
  },
  "language_info": {
   "codemirror_mode": {
    "name": "ipython",
    "version": 3
   },
   "file_extension": ".py",
   "mimetype": "text/x-python",
   "name": "python",
   "nbconvert_exporter": "python",
   "pygments_lexer": "ipython3",
   "version": "3.10.9"
  }
 },
 "nbformat": 4,
 "nbformat_minor": 5
}
